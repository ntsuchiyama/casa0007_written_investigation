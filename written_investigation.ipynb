{
 "cells": [
  {
   "cell_type": "markdown",
   "id": "7b537c2a-af7e-4297-8030-447a0ac2f610",
   "metadata": {},
   "source": [
    "# Written Investigation\n",
    "Cluster Analysis of Homelessness types in Mesa, Arizona"
   ]
  },
  {
   "cell_type": "markdown",
   "id": "0c3093c9-00c1-4681-b542-f4ff262e3f3c",
   "metadata": {},
   "source": [
    "## Install packages"
   ]
  },
  {
   "cell_type": "code",
   "execution_count": 1,
   "id": "f1c74a76-e67b-4dab-ab8f-bc1d48cc8bb3",
   "metadata": {},
   "outputs": [
    {
     "name": "stdout",
     "output_type": "stream",
     "text": [
      "Collecting plotnine\n",
      "  Downloading plotnine-0.10.1-py3-none-any.whl (1.2 MB)\n",
      "\u001b[2K     \u001b[90m━━━━━━━━━━━━━━━━━━━━━━━━━━━━━━━━━━━━━━━━\u001b[0m \u001b[32m1.2/1.2 MB\u001b[0m \u001b[31m4.5 MB/s\u001b[0m eta \u001b[36m0:00:00\u001b[0ma \u001b[36m0:00:01\u001b[0m\n",
      "\u001b[?25hRequirement already satisfied: statsmodels>=0.13.2 in /opt/conda/lib/python3.10/site-packages (from plotnine) (0.13.2)\n",
      "Requirement already satisfied: matplotlib>=3.5.0 in /opt/conda/lib/python3.10/site-packages (from plotnine) (3.5.2)\n",
      "Requirement already satisfied: pandas>=1.3.5 in /opt/conda/lib/python3.10/site-packages (from plotnine) (1.4.3)\n",
      "Requirement already satisfied: scipy>=1.5.0 in /opt/conda/lib/python3.10/site-packages (from plotnine) (1.9.1)\n",
      "Requirement already satisfied: numpy>=1.19.0 in /opt/conda/lib/python3.10/site-packages (from plotnine) (1.22.4)\n",
      "Requirement already satisfied: patsy>=0.5.1 in /opt/conda/lib/python3.10/site-packages (from plotnine) (0.5.2)\n",
      "Collecting mizani>=0.8.1\n",
      "  Downloading mizani-0.8.1-py3-none-any.whl (64 kB)\n",
      "\u001b[2K     \u001b[90m━━━━━━━━━━━━━━━━━━━━━━━━━━━━━━━━━━━━━━━━\u001b[0m \u001b[32m64.7/64.7 kB\u001b[0m \u001b[31m8.5 MB/s\u001b[0m eta \u001b[36m0:00:00\u001b[0m\n",
      "\u001b[?25hRequirement already satisfied: python-dateutil>=2.7 in /opt/conda/lib/python3.10/site-packages (from matplotlib>=3.5.0->plotnine) (2.8.2)\n",
      "Requirement already satisfied: cycler>=0.10 in /opt/conda/lib/python3.10/site-packages (from matplotlib>=3.5.0->plotnine) (0.11.0)\n",
      "Requirement already satisfied: kiwisolver>=1.0.1 in /opt/conda/lib/python3.10/site-packages (from matplotlib>=3.5.0->plotnine) (1.4.4)\n",
      "Requirement already satisfied: pillow>=6.2.0 in /opt/conda/lib/python3.10/site-packages (from matplotlib>=3.5.0->plotnine) (9.2.0)\n",
      "Requirement already satisfied: pyparsing>=2.2.1 in /opt/conda/lib/python3.10/site-packages (from matplotlib>=3.5.0->plotnine) (3.0.9)\n",
      "Requirement already satisfied: fonttools>=4.22.0 in /opt/conda/lib/python3.10/site-packages (from matplotlib>=3.5.0->plotnine) (4.34.4)\n",
      "Requirement already satisfied: packaging>=20.0 in /opt/conda/lib/python3.10/site-packages (from matplotlib>=3.5.0->plotnine) (21.3)\n",
      "Requirement already satisfied: palettable in /opt/conda/lib/python3.10/site-packages (from mizani>=0.8.1->plotnine) (3.3.0)\n",
      "Requirement already satisfied: pytz>=2020.1 in /opt/conda/lib/python3.10/site-packages (from pandas>=1.3.5->plotnine) (2022.1)\n",
      "Requirement already satisfied: six in /opt/conda/lib/python3.10/site-packages (from patsy>=0.5.1->plotnine) (1.16.0)\n",
      "Installing collected packages: mizani, plotnine\n",
      "Successfully installed mizani-0.8.1 plotnine-0.10.1\n"
     ]
    }
   ],
   "source": [
    "! pip install plotnine"
   ]
  },
  {
   "cell_type": "code",
   "execution_count": 2,
   "id": "03bb70e2-46eb-4448-8b7c-a2613b9f4382",
   "metadata": {},
   "outputs": [
    {
     "name": "stdout",
     "output_type": "stream",
     "text": [
      "Collecting kmodes\n",
      "  Downloading kmodes-0.12.2-py2.py3-none-any.whl (20 kB)\n",
      "Requirement already satisfied: scipy>=0.13.3 in /opt/conda/lib/python3.10/site-packages (from kmodes) (1.9.1)\n",
      "Requirement already satisfied: scikit-learn>=0.22.0 in /opt/conda/lib/python3.10/site-packages (from kmodes) (1.1.1)\n",
      "Requirement already satisfied: numpy>=1.10.4 in /opt/conda/lib/python3.10/site-packages (from kmodes) (1.22.4)\n",
      "Requirement already satisfied: joblib>=0.11 in /opt/conda/lib/python3.10/site-packages (from kmodes) (1.1.0)\n",
      "Requirement already satisfied: threadpoolctl>=2.0.0 in /opt/conda/lib/python3.10/site-packages (from scikit-learn>=0.22.0->kmodes) (3.1.0)\n",
      "Installing collected packages: kmodes\n",
      "Successfully installed kmodes-0.12.2\n"
     ]
    }
   ],
   "source": [
    "! pip install kmodes"
   ]
  },
  {
   "cell_type": "code",
   "execution_count": 3,
   "id": "659bbc5b-8a92-4f61-93f0-689cd96a7bf6",
   "metadata": {},
   "outputs": [],
   "source": [
    "import pandas as pd\n",
    "\n",
    "import matplotlib.cm\n",
    "from matplotlib import colors\n",
    "import matplotlib.pyplot as plt # For plotting\n",
    "import numpy as np              # For working with numerical data\n",
    "from plotnine import *\n",
    "import plotnine\n",
    "\n",
    "from sklearn.preprocessing import RobustScaler\n",
    "import sklearn\n",
    "from kmodes.kprototypes import KPrototypes\n",
    "from scipy.stats import chi2_contingency\n",
    "import seaborn as sns"
   ]
  },
  {
   "cell_type": "markdown",
   "id": "e90bb7e9-d0ed-46d9-8937-60477390a563",
   "metadata": {},
   "source": [
    "## Import Data -Mesa-"
   ]
  },
  {
   "cell_type": "code",
   "execution_count": 4,
   "id": "b00296a7-a6f1-4708-b09d-7302fb04e3f2",
   "metadata": {},
   "outputs": [],
   "source": [
    "# read in data for mesa\n",
    "mesa = pd.read_csv(\"Unsheltered_Point_In_Time__PIT__Count_Details_Mesa_Only.csv\")"
   ]
  },
  {
   "cell_type": "code",
   "execution_count": 5,
   "id": "fd290568-4f67-4486-88b0-f0d67bc57045",
   "metadata": {},
   "outputs": [
    {
     "data": {
      "text/html": [
       "<div>\n",
       "<style scoped>\n",
       "    .dataframe tbody tr th:only-of-type {\n",
       "        vertical-align: middle;\n",
       "    }\n",
       "\n",
       "    .dataframe tbody tr th {\n",
       "        vertical-align: top;\n",
       "    }\n",
       "\n",
       "    .dataframe thead th {\n",
       "        text-align: right;\n",
       "    }\n",
       "</style>\n",
       "<table border=\"1\" class=\"dataframe\">\n",
       "  <thead>\n",
       "    <tr style=\"text-align: right;\">\n",
       "      <th></th>\n",
       "      <th>MagId</th>\n",
       "      <th>OBJECTID</th>\n",
       "      <th>SurveyType</th>\n",
       "      <th>globalid</th>\n",
       "      <th>parentglobalid</th>\n",
       "      <th>Household Y/N</th>\n",
       "      <th>Household Type</th>\n",
       "      <th>HH Adults &amp; Kids</th>\n",
       "      <th>HH Adults only</th>\n",
       "      <th>HH Child Only</th>\n",
       "      <th>...</th>\n",
       "      <th>High_Low</th>\n",
       "      <th>Grid_Issue</th>\n",
       "      <th>Location_desc</th>\n",
       "      <th>Homeless</th>\n",
       "      <th>Reason</th>\n",
       "      <th>Reason_Other</th>\n",
       "      <th>Substance</th>\n",
       "      <th>Chronic</th>\n",
       "      <th>Age Type</th>\n",
       "      <th>Geolocation</th>\n",
       "    </tr>\n",
       "  </thead>\n",
       "  <tbody>\n",
       "    <tr>\n",
       "      <th>0</th>\n",
       "      <td>3017</td>\n",
       "      <td>1462</td>\n",
       "      <td>Observation</td>\n",
       "      <td>{C65A31F9-CCB3-45F9-B473-BB88D0EAB525}</td>\n",
       "      <td>{B27AB30A-1735-4157-9BF1-7ACF93220DAE}</td>\n",
       "      <td>NaN</td>\n",
       "      <td>Adults Only</td>\n",
       "      <td>NaN</td>\n",
       "      <td>True</td>\n",
       "      <td>NaN</td>\n",
       "      <td>...</td>\n",
       "      <td>NaN</td>\n",
       "      <td>NaN</td>\n",
       "      <td>NaN</td>\n",
       "      <td>Definitely</td>\n",
       "      <td>no_survey</td>\n",
       "      <td>NaN</td>\n",
       "      <td>NaN</td>\n",
       "      <td>NaN</td>\n",
       "      <td>Adults</td>\n",
       "      <td>POINT (-111.8554685 33.41537737)</td>\n",
       "    </tr>\n",
       "    <tr>\n",
       "      <th>1</th>\n",
       "      <td>1036</td>\n",
       "      <td>1037</td>\n",
       "      <td>Interview</td>\n",
       "      <td>{6EA6221C-F4BE-4498-BEA8-6E9500110DCF}</td>\n",
       "      <td>{6D9606E0-E3C7-4E59-8E6C-C74127DFE177}</td>\n",
       "      <td>NaN</td>\n",
       "      <td>Adults Only</td>\n",
       "      <td>NaN</td>\n",
       "      <td>True</td>\n",
       "      <td>NaN</td>\n",
       "      <td>...</td>\n",
       "      <td>NaN</td>\n",
       "      <td>NaN</td>\n",
       "      <td>NaN</td>\n",
       "      <td>NaN</td>\n",
       "      <td>NaN</td>\n",
       "      <td>NaN</td>\n",
       "      <td>NaN</td>\n",
       "      <td>NaN</td>\n",
       "      <td>Adults</td>\n",
       "      <td>POINT (-111.8334689 33.40739482)</td>\n",
       "    </tr>\n",
       "    <tr>\n",
       "      <th>2</th>\n",
       "      <td>994</td>\n",
       "      <td>995</td>\n",
       "      <td>Interview</td>\n",
       "      <td>{45619E85-326C-4F23-BA3A-BFE5FACF7638}</td>\n",
       "      <td>{93009576-8D0D-423C-B13E-00DC3612DF38}</td>\n",
       "      <td>NaN</td>\n",
       "      <td>Adults Only</td>\n",
       "      <td>NaN</td>\n",
       "      <td>True</td>\n",
       "      <td>NaN</td>\n",
       "      <td>...</td>\n",
       "      <td>NaN</td>\n",
       "      <td>NaN</td>\n",
       "      <td>NaN</td>\n",
       "      <td>NaN</td>\n",
       "      <td>NaN</td>\n",
       "      <td>NaN</td>\n",
       "      <td>NaN</td>\n",
       "      <td>NaN</td>\n",
       "      <td>Adults</td>\n",
       "      <td>POINT (-111.8334516 33.4073513)</td>\n",
       "    </tr>\n",
       "    <tr>\n",
       "      <th>3</th>\n",
       "      <td>65</td>\n",
       "      <td>65</td>\n",
       "      <td>Interview</td>\n",
       "      <td>{4659F2D3-27FE-4CEE-B352-B767C2706C9F}</td>\n",
       "      <td>{32DDB967-CACE-473B-836F-D70946A8DF4F}</td>\n",
       "      <td>NaN</td>\n",
       "      <td>Adults Only</td>\n",
       "      <td>NaN</td>\n",
       "      <td>True</td>\n",
       "      <td>NaN</td>\n",
       "      <td>...</td>\n",
       "      <td>NaN</td>\n",
       "      <td>NaN</td>\n",
       "      <td>NaN</td>\n",
       "      <td>NaN</td>\n",
       "      <td>NaN</td>\n",
       "      <td>NaN</td>\n",
       "      <td>NaN</td>\n",
       "      <td>Yes</td>\n",
       "      <td>Seniors</td>\n",
       "      <td>POINT (-111.8262637 33.4142765)</td>\n",
       "    </tr>\n",
       "    <tr>\n",
       "      <th>4</th>\n",
       "      <td>701</td>\n",
       "      <td>702</td>\n",
       "      <td>Interview</td>\n",
       "      <td>{A8BF1B94-0851-4E1A-B743-A4A072021CC8}</td>\n",
       "      <td>{3D9AE6DA-8D65-4082-B563-51457E391792}</td>\n",
       "      <td>True</td>\n",
       "      <td>Adults Only</td>\n",
       "      <td>NaN</td>\n",
       "      <td>True</td>\n",
       "      <td>NaN</td>\n",
       "      <td>...</td>\n",
       "      <td>NaN</td>\n",
       "      <td>NaN</td>\n",
       "      <td>NaN</td>\n",
       "      <td>NaN</td>\n",
       "      <td>NaN</td>\n",
       "      <td>NaN</td>\n",
       "      <td>NaN</td>\n",
       "      <td>NaN</td>\n",
       "      <td>Older Adults</td>\n",
       "      <td>POINT (-111.8233899 33.4081238)</td>\n",
       "    </tr>\n",
       "  </tbody>\n",
       "</table>\n",
       "<p>5 rows × 72 columns</p>\n",
       "</div>"
      ],
      "text/plain": [
       "   MagId  OBJECTID   SurveyType                                globalid  \\\n",
       "0   3017      1462  Observation  {C65A31F9-CCB3-45F9-B473-BB88D0EAB525}   \n",
       "1   1036      1037    Interview  {6EA6221C-F4BE-4498-BEA8-6E9500110DCF}   \n",
       "2    994       995    Interview  {45619E85-326C-4F23-BA3A-BFE5FACF7638}   \n",
       "3     65        65    Interview  {4659F2D3-27FE-4CEE-B352-B767C2706C9F}   \n",
       "4    701       702    Interview  {A8BF1B94-0851-4E1A-B743-A4A072021CC8}   \n",
       "\n",
       "                           parentglobalid Household Y/N Household Type  \\\n",
       "0  {B27AB30A-1735-4157-9BF1-7ACF93220DAE}           NaN    Adults Only   \n",
       "1  {6D9606E0-E3C7-4E59-8E6C-C74127DFE177}           NaN    Adults Only   \n",
       "2  {93009576-8D0D-423C-B13E-00DC3612DF38}           NaN    Adults Only   \n",
       "3  {32DDB967-CACE-473B-836F-D70946A8DF4F}           NaN    Adults Only   \n",
       "4  {3D9AE6DA-8D65-4082-B563-51457E391792}          True    Adults Only   \n",
       "\n",
       "  HH Adults & Kids HH Adults only  HH Child Only  ... High_Low Grid_Issue  \\\n",
       "0              NaN           True            NaN  ...      NaN        NaN   \n",
       "1              NaN           True            NaN  ...      NaN        NaN   \n",
       "2              NaN           True            NaN  ...      NaN        NaN   \n",
       "3              NaN           True            NaN  ...      NaN        NaN   \n",
       "4              NaN           True            NaN  ...      NaN        NaN   \n",
       "\n",
       "   Location_desc    Homeless     Reason Reason_Other  Substance Chronic  \\\n",
       "0            NaN  Definitely  no_survey          NaN        NaN     NaN   \n",
       "1            NaN         NaN        NaN          NaN        NaN     NaN   \n",
       "2            NaN         NaN        NaN          NaN        NaN     NaN   \n",
       "3            NaN         NaN        NaN          NaN        NaN     Yes   \n",
       "4            NaN         NaN        NaN          NaN        NaN     NaN   \n",
       "\n",
       "       Age Type                       Geolocation  \n",
       "0        Adults  POINT (-111.8554685 33.41537737)  \n",
       "1        Adults  POINT (-111.8334689 33.40739482)  \n",
       "2        Adults   POINT (-111.8334516 33.4073513)  \n",
       "3       Seniors   POINT (-111.8262637 33.4142765)  \n",
       "4  Older Adults   POINT (-111.8233899 33.4081238)  \n",
       "\n",
       "[5 rows x 72 columns]"
      ]
     },
     "execution_count": 5,
     "metadata": {},
     "output_type": "execute_result"
    }
   ],
   "source": [
    "mesa.head()"
   ]
  },
  {
   "cell_type": "markdown",
   "id": "abb56176-c882-4d52-bd43-220f93bb6e1a",
   "metadata": {},
   "source": [
    "## Clean Data"
   ]
  },
  {
   "cell_type": "code",
   "execution_count": 6,
   "id": "6589c316-8942-450f-83ee-acb31323f2f0",
   "metadata": {},
   "outputs": [],
   "source": [
    "# remove rows without data on whether homelessness is experienced for the first time\n",
    "mesa_subset = mesa.dropna(subset = ['First Time Homelessness'])"
   ]
  },
  {
   "cell_type": "code",
   "execution_count": 7,
   "id": "e7e6e80f-10eb-4e8c-afa3-6cd43a67287a",
   "metadata": {},
   "outputs": [
    {
     "data": {
      "text/html": [
       "<div>\n",
       "<style scoped>\n",
       "    .dataframe tbody tr th:only-of-type {\n",
       "        vertical-align: middle;\n",
       "    }\n",
       "\n",
       "    .dataframe tbody tr th {\n",
       "        vertical-align: top;\n",
       "    }\n",
       "\n",
       "    .dataframe thead th {\n",
       "        text-align: right;\n",
       "    }\n",
       "</style>\n",
       "<table border=\"1\" class=\"dataframe\">\n",
       "  <thead>\n",
       "    <tr style=\"text-align: right;\">\n",
       "      <th></th>\n",
       "      <th>MagId</th>\n",
       "      <th>OBJECTID</th>\n",
       "      <th>SurveyType</th>\n",
       "      <th>globalid</th>\n",
       "      <th>parentglobalid</th>\n",
       "      <th>Household Y/N</th>\n",
       "      <th>Household Type</th>\n",
       "      <th>HH Adults &amp; Kids</th>\n",
       "      <th>HH Adults only</th>\n",
       "      <th>HH Child Only</th>\n",
       "      <th>...</th>\n",
       "      <th>High_Low</th>\n",
       "      <th>Grid_Issue</th>\n",
       "      <th>Location_desc</th>\n",
       "      <th>Homeless</th>\n",
       "      <th>Reason</th>\n",
       "      <th>Reason_Other</th>\n",
       "      <th>Substance</th>\n",
       "      <th>Chronic</th>\n",
       "      <th>Age Type</th>\n",
       "      <th>Geolocation</th>\n",
       "    </tr>\n",
       "  </thead>\n",
       "  <tbody>\n",
       "    <tr>\n",
       "      <th>1</th>\n",
       "      <td>1036</td>\n",
       "      <td>1037</td>\n",
       "      <td>Interview</td>\n",
       "      <td>{6EA6221C-F4BE-4498-BEA8-6E9500110DCF}</td>\n",
       "      <td>{6D9606E0-E3C7-4E59-8E6C-C74127DFE177}</td>\n",
       "      <td>NaN</td>\n",
       "      <td>Adults Only</td>\n",
       "      <td>NaN</td>\n",
       "      <td>True</td>\n",
       "      <td>NaN</td>\n",
       "      <td>...</td>\n",
       "      <td>NaN</td>\n",
       "      <td>NaN</td>\n",
       "      <td>NaN</td>\n",
       "      <td>NaN</td>\n",
       "      <td>NaN</td>\n",
       "      <td>NaN</td>\n",
       "      <td>NaN</td>\n",
       "      <td>NaN</td>\n",
       "      <td>Adults</td>\n",
       "      <td>POINT (-111.8334689 33.40739482)</td>\n",
       "    </tr>\n",
       "    <tr>\n",
       "      <th>2</th>\n",
       "      <td>994</td>\n",
       "      <td>995</td>\n",
       "      <td>Interview</td>\n",
       "      <td>{45619E85-326C-4F23-BA3A-BFE5FACF7638}</td>\n",
       "      <td>{93009576-8D0D-423C-B13E-00DC3612DF38}</td>\n",
       "      <td>NaN</td>\n",
       "      <td>Adults Only</td>\n",
       "      <td>NaN</td>\n",
       "      <td>True</td>\n",
       "      <td>NaN</td>\n",
       "      <td>...</td>\n",
       "      <td>NaN</td>\n",
       "      <td>NaN</td>\n",
       "      <td>NaN</td>\n",
       "      <td>NaN</td>\n",
       "      <td>NaN</td>\n",
       "      <td>NaN</td>\n",
       "      <td>NaN</td>\n",
       "      <td>NaN</td>\n",
       "      <td>Adults</td>\n",
       "      <td>POINT (-111.8334516 33.4073513)</td>\n",
       "    </tr>\n",
       "    <tr>\n",
       "      <th>3</th>\n",
       "      <td>65</td>\n",
       "      <td>65</td>\n",
       "      <td>Interview</td>\n",
       "      <td>{4659F2D3-27FE-4CEE-B352-B767C2706C9F}</td>\n",
       "      <td>{32DDB967-CACE-473B-836F-D70946A8DF4F}</td>\n",
       "      <td>NaN</td>\n",
       "      <td>Adults Only</td>\n",
       "      <td>NaN</td>\n",
       "      <td>True</td>\n",
       "      <td>NaN</td>\n",
       "      <td>...</td>\n",
       "      <td>NaN</td>\n",
       "      <td>NaN</td>\n",
       "      <td>NaN</td>\n",
       "      <td>NaN</td>\n",
       "      <td>NaN</td>\n",
       "      <td>NaN</td>\n",
       "      <td>NaN</td>\n",
       "      <td>Yes</td>\n",
       "      <td>Seniors</td>\n",
       "      <td>POINT (-111.8262637 33.4142765)</td>\n",
       "    </tr>\n",
       "    <tr>\n",
       "      <th>4</th>\n",
       "      <td>701</td>\n",
       "      <td>702</td>\n",
       "      <td>Interview</td>\n",
       "      <td>{A8BF1B94-0851-4E1A-B743-A4A072021CC8}</td>\n",
       "      <td>{3D9AE6DA-8D65-4082-B563-51457E391792}</td>\n",
       "      <td>True</td>\n",
       "      <td>Adults Only</td>\n",
       "      <td>NaN</td>\n",
       "      <td>True</td>\n",
       "      <td>NaN</td>\n",
       "      <td>...</td>\n",
       "      <td>NaN</td>\n",
       "      <td>NaN</td>\n",
       "      <td>NaN</td>\n",
       "      <td>NaN</td>\n",
       "      <td>NaN</td>\n",
       "      <td>NaN</td>\n",
       "      <td>NaN</td>\n",
       "      <td>NaN</td>\n",
       "      <td>Older Adults</td>\n",
       "      <td>POINT (-111.8233899 33.4081238)</td>\n",
       "    </tr>\n",
       "    <tr>\n",
       "      <th>5</th>\n",
       "      <td>1070</td>\n",
       "      <td>1071</td>\n",
       "      <td>Interview</td>\n",
       "      <td>{4ED4BC97-0465-4923-A1DC-3B1A6CEF031D}</td>\n",
       "      <td>{74AC4BC1-2098-4090-BA20-2F7311ADAC58}</td>\n",
       "      <td>NaN</td>\n",
       "      <td>Adults Only</td>\n",
       "      <td>NaN</td>\n",
       "      <td>True</td>\n",
       "      <td>NaN</td>\n",
       "      <td>...</td>\n",
       "      <td>NaN</td>\n",
       "      <td>NaN</td>\n",
       "      <td>NaN</td>\n",
       "      <td>NaN</td>\n",
       "      <td>NaN</td>\n",
       "      <td>NaN</td>\n",
       "      <td>NaN</td>\n",
       "      <td>NaN</td>\n",
       "      <td>Older Adults</td>\n",
       "      <td>POINT (-111.6837261 33.42181642)</td>\n",
       "    </tr>\n",
       "  </tbody>\n",
       "</table>\n",
       "<p>5 rows × 72 columns</p>\n",
       "</div>"
      ],
      "text/plain": [
       "   MagId  OBJECTID SurveyType                                globalid  \\\n",
       "1   1036      1037  Interview  {6EA6221C-F4BE-4498-BEA8-6E9500110DCF}   \n",
       "2    994       995  Interview  {45619E85-326C-4F23-BA3A-BFE5FACF7638}   \n",
       "3     65        65  Interview  {4659F2D3-27FE-4CEE-B352-B767C2706C9F}   \n",
       "4    701       702  Interview  {A8BF1B94-0851-4E1A-B743-A4A072021CC8}   \n",
       "5   1070      1071  Interview  {4ED4BC97-0465-4923-A1DC-3B1A6CEF031D}   \n",
       "\n",
       "                           parentglobalid Household Y/N Household Type  \\\n",
       "1  {6D9606E0-E3C7-4E59-8E6C-C74127DFE177}           NaN    Adults Only   \n",
       "2  {93009576-8D0D-423C-B13E-00DC3612DF38}           NaN    Adults Only   \n",
       "3  {32DDB967-CACE-473B-836F-D70946A8DF4F}           NaN    Adults Only   \n",
       "4  {3D9AE6DA-8D65-4082-B563-51457E391792}          True    Adults Only   \n",
       "5  {74AC4BC1-2098-4090-BA20-2F7311ADAC58}           NaN    Adults Only   \n",
       "\n",
       "  HH Adults & Kids HH Adults only  HH Child Only  ... High_Low Grid_Issue  \\\n",
       "1              NaN           True            NaN  ...      NaN        NaN   \n",
       "2              NaN           True            NaN  ...      NaN        NaN   \n",
       "3              NaN           True            NaN  ...      NaN        NaN   \n",
       "4              NaN           True            NaN  ...      NaN        NaN   \n",
       "5              NaN           True            NaN  ...      NaN        NaN   \n",
       "\n",
       "   Location_desc Homeless Reason Reason_Other  Substance Chronic  \\\n",
       "1            NaN      NaN    NaN          NaN        NaN     NaN   \n",
       "2            NaN      NaN    NaN          NaN        NaN     NaN   \n",
       "3            NaN      NaN    NaN          NaN        NaN     Yes   \n",
       "4            NaN      NaN    NaN          NaN        NaN     NaN   \n",
       "5            NaN      NaN    NaN          NaN        NaN     NaN   \n",
       "\n",
       "       Age Type                       Geolocation  \n",
       "1        Adults  POINT (-111.8334689 33.40739482)  \n",
       "2        Adults   POINT (-111.8334516 33.4073513)  \n",
       "3       Seniors   POINT (-111.8262637 33.4142765)  \n",
       "4  Older Adults   POINT (-111.8233899 33.4081238)  \n",
       "5  Older Adults  POINT (-111.6837261 33.42181642)  \n",
       "\n",
       "[5 rows x 72 columns]"
      ]
     },
     "execution_count": 7,
     "metadata": {},
     "output_type": "execute_result"
    }
   ],
   "source": [
    "mesa_subset.head()"
   ]
  },
  {
   "cell_type": "code",
   "execution_count": 8,
   "id": "bf254586-fe4e-41db-9453-b3788b2a74a9",
   "metadata": {},
   "outputs": [
    {
     "data": {
      "text/plain": [
       "(191, 72)"
      ]
     },
     "execution_count": 8,
     "metadata": {},
     "output_type": "execute_result"
    }
   ],
   "source": [
    "# count the number of rows\n",
    "mesa_subset.shape"
   ]
  },
  {
   "cell_type": "code",
   "execution_count": 9,
   "id": "76696ebd-c183-4856-8510-59055680887d",
   "metadata": {},
   "outputs": [],
   "source": [
    "# set the index of the dataframe with magid column\n",
    "mesa_subset = mesa_subset.set_index('MagId')"
   ]
  },
  {
   "cell_type": "code",
   "execution_count": 10,
   "id": "58ff991f-ff8a-46a3-aee2-3686b98adaa4",
   "metadata": {},
   "outputs": [
    {
     "data": {
      "text/html": [
       "<div>\n",
       "<style scoped>\n",
       "    .dataframe tbody tr th:only-of-type {\n",
       "        vertical-align: middle;\n",
       "    }\n",
       "\n",
       "    .dataframe tbody tr th {\n",
       "        vertical-align: top;\n",
       "    }\n",
       "\n",
       "    .dataframe thead th {\n",
       "        text-align: right;\n",
       "    }\n",
       "</style>\n",
       "<table border=\"1\" class=\"dataframe\">\n",
       "  <thead>\n",
       "    <tr style=\"text-align: right;\">\n",
       "      <th></th>\n",
       "      <th>OBJECTID</th>\n",
       "      <th>SurveyType</th>\n",
       "      <th>globalid</th>\n",
       "      <th>parentglobalid</th>\n",
       "      <th>Household Y/N</th>\n",
       "      <th>Household Type</th>\n",
       "      <th>HH Adults &amp; Kids</th>\n",
       "      <th>HH Adults only</th>\n",
       "      <th>HH Child Only</th>\n",
       "      <th>Veteran HH</th>\n",
       "      <th>...</th>\n",
       "      <th>High_Low</th>\n",
       "      <th>Grid_Issue</th>\n",
       "      <th>Location_desc</th>\n",
       "      <th>Homeless</th>\n",
       "      <th>Reason</th>\n",
       "      <th>Reason_Other</th>\n",
       "      <th>Substance</th>\n",
       "      <th>Chronic</th>\n",
       "      <th>Age Type</th>\n",
       "      <th>Geolocation</th>\n",
       "    </tr>\n",
       "    <tr>\n",
       "      <th>MagId</th>\n",
       "      <th></th>\n",
       "      <th></th>\n",
       "      <th></th>\n",
       "      <th></th>\n",
       "      <th></th>\n",
       "      <th></th>\n",
       "      <th></th>\n",
       "      <th></th>\n",
       "      <th></th>\n",
       "      <th></th>\n",
       "      <th></th>\n",
       "      <th></th>\n",
       "      <th></th>\n",
       "      <th></th>\n",
       "      <th></th>\n",
       "      <th></th>\n",
       "      <th></th>\n",
       "      <th></th>\n",
       "      <th></th>\n",
       "      <th></th>\n",
       "      <th></th>\n",
       "    </tr>\n",
       "  </thead>\n",
       "  <tbody>\n",
       "    <tr>\n",
       "      <th>1036</th>\n",
       "      <td>1037</td>\n",
       "      <td>Interview</td>\n",
       "      <td>{6EA6221C-F4BE-4498-BEA8-6E9500110DCF}</td>\n",
       "      <td>{6D9606E0-E3C7-4E59-8E6C-C74127DFE177}</td>\n",
       "      <td>NaN</td>\n",
       "      <td>Adults Only</td>\n",
       "      <td>NaN</td>\n",
       "      <td>True</td>\n",
       "      <td>NaN</td>\n",
       "      <td>NaN</td>\n",
       "      <td>...</td>\n",
       "      <td>NaN</td>\n",
       "      <td>NaN</td>\n",
       "      <td>NaN</td>\n",
       "      <td>NaN</td>\n",
       "      <td>NaN</td>\n",
       "      <td>NaN</td>\n",
       "      <td>NaN</td>\n",
       "      <td>NaN</td>\n",
       "      <td>Adults</td>\n",
       "      <td>POINT (-111.8334689 33.40739482)</td>\n",
       "    </tr>\n",
       "    <tr>\n",
       "      <th>994</th>\n",
       "      <td>995</td>\n",
       "      <td>Interview</td>\n",
       "      <td>{45619E85-326C-4F23-BA3A-BFE5FACF7638}</td>\n",
       "      <td>{93009576-8D0D-423C-B13E-00DC3612DF38}</td>\n",
       "      <td>NaN</td>\n",
       "      <td>Adults Only</td>\n",
       "      <td>NaN</td>\n",
       "      <td>True</td>\n",
       "      <td>NaN</td>\n",
       "      <td>NaN</td>\n",
       "      <td>...</td>\n",
       "      <td>NaN</td>\n",
       "      <td>NaN</td>\n",
       "      <td>NaN</td>\n",
       "      <td>NaN</td>\n",
       "      <td>NaN</td>\n",
       "      <td>NaN</td>\n",
       "      <td>NaN</td>\n",
       "      <td>NaN</td>\n",
       "      <td>Adults</td>\n",
       "      <td>POINT (-111.8334516 33.4073513)</td>\n",
       "    </tr>\n",
       "    <tr>\n",
       "      <th>65</th>\n",
       "      <td>65</td>\n",
       "      <td>Interview</td>\n",
       "      <td>{4659F2D3-27FE-4CEE-B352-B767C2706C9F}</td>\n",
       "      <td>{32DDB967-CACE-473B-836F-D70946A8DF4F}</td>\n",
       "      <td>NaN</td>\n",
       "      <td>Adults Only</td>\n",
       "      <td>NaN</td>\n",
       "      <td>True</td>\n",
       "      <td>NaN</td>\n",
       "      <td>NaN</td>\n",
       "      <td>...</td>\n",
       "      <td>NaN</td>\n",
       "      <td>NaN</td>\n",
       "      <td>NaN</td>\n",
       "      <td>NaN</td>\n",
       "      <td>NaN</td>\n",
       "      <td>NaN</td>\n",
       "      <td>NaN</td>\n",
       "      <td>Yes</td>\n",
       "      <td>Seniors</td>\n",
       "      <td>POINT (-111.8262637 33.4142765)</td>\n",
       "    </tr>\n",
       "    <tr>\n",
       "      <th>701</th>\n",
       "      <td>702</td>\n",
       "      <td>Interview</td>\n",
       "      <td>{A8BF1B94-0851-4E1A-B743-A4A072021CC8}</td>\n",
       "      <td>{3D9AE6DA-8D65-4082-B563-51457E391792}</td>\n",
       "      <td>True</td>\n",
       "      <td>Adults Only</td>\n",
       "      <td>NaN</td>\n",
       "      <td>True</td>\n",
       "      <td>NaN</td>\n",
       "      <td>NaN</td>\n",
       "      <td>...</td>\n",
       "      <td>NaN</td>\n",
       "      <td>NaN</td>\n",
       "      <td>NaN</td>\n",
       "      <td>NaN</td>\n",
       "      <td>NaN</td>\n",
       "      <td>NaN</td>\n",
       "      <td>NaN</td>\n",
       "      <td>NaN</td>\n",
       "      <td>Older Adults</td>\n",
       "      <td>POINT (-111.8233899 33.4081238)</td>\n",
       "    </tr>\n",
       "    <tr>\n",
       "      <th>1070</th>\n",
       "      <td>1071</td>\n",
       "      <td>Interview</td>\n",
       "      <td>{4ED4BC97-0465-4923-A1DC-3B1A6CEF031D}</td>\n",
       "      <td>{74AC4BC1-2098-4090-BA20-2F7311ADAC58}</td>\n",
       "      <td>NaN</td>\n",
       "      <td>Adults Only</td>\n",
       "      <td>NaN</td>\n",
       "      <td>True</td>\n",
       "      <td>NaN</td>\n",
       "      <td>NaN</td>\n",
       "      <td>...</td>\n",
       "      <td>NaN</td>\n",
       "      <td>NaN</td>\n",
       "      <td>NaN</td>\n",
       "      <td>NaN</td>\n",
       "      <td>NaN</td>\n",
       "      <td>NaN</td>\n",
       "      <td>NaN</td>\n",
       "      <td>NaN</td>\n",
       "      <td>Older Adults</td>\n",
       "      <td>POINT (-111.6837261 33.42181642)</td>\n",
       "    </tr>\n",
       "  </tbody>\n",
       "</table>\n",
       "<p>5 rows × 71 columns</p>\n",
       "</div>"
      ],
      "text/plain": [
       "       OBJECTID SurveyType                                globalid  \\\n",
       "MagId                                                                \n",
       "1036       1037  Interview  {6EA6221C-F4BE-4498-BEA8-6E9500110DCF}   \n",
       "994         995  Interview  {45619E85-326C-4F23-BA3A-BFE5FACF7638}   \n",
       "65           65  Interview  {4659F2D3-27FE-4CEE-B352-B767C2706C9F}   \n",
       "701         702  Interview  {A8BF1B94-0851-4E1A-B743-A4A072021CC8}   \n",
       "1070       1071  Interview  {4ED4BC97-0465-4923-A1DC-3B1A6CEF031D}   \n",
       "\n",
       "                               parentglobalid Household Y/N Household Type  \\\n",
       "MagId                                                                        \n",
       "1036   {6D9606E0-E3C7-4E59-8E6C-C74127DFE177}           NaN    Adults Only   \n",
       "994    {93009576-8D0D-423C-B13E-00DC3612DF38}           NaN    Adults Only   \n",
       "65     {32DDB967-CACE-473B-836F-D70946A8DF4F}           NaN    Adults Only   \n",
       "701    {3D9AE6DA-8D65-4082-B563-51457E391792}          True    Adults Only   \n",
       "1070   {74AC4BC1-2098-4090-BA20-2F7311ADAC58}           NaN    Adults Only   \n",
       "\n",
       "      HH Adults & Kids HH Adults only  HH Child Only Veteran HH  ... High_Low  \\\n",
       "MagId                                                            ...            \n",
       "1036               NaN           True            NaN        NaN  ...      NaN   \n",
       "994                NaN           True            NaN        NaN  ...      NaN   \n",
       "65                 NaN           True            NaN        NaN  ...      NaN   \n",
       "701                NaN           True            NaN        NaN  ...      NaN   \n",
       "1070               NaN           True            NaN        NaN  ...      NaN   \n",
       "\n",
       "       Grid_Issue Location_desc Homeless Reason  Reason_Other Substance  \\\n",
       "MagId                                                                     \n",
       "1036          NaN           NaN      NaN    NaN           NaN       NaN   \n",
       "994           NaN           NaN      NaN    NaN           NaN       NaN   \n",
       "65            NaN           NaN      NaN    NaN           NaN       NaN   \n",
       "701           NaN           NaN      NaN    NaN           NaN       NaN   \n",
       "1070          NaN           NaN      NaN    NaN           NaN       NaN   \n",
       "\n",
       "      Chronic      Age Type                       Geolocation  \n",
       "MagId                                                          \n",
       "1036      NaN        Adults  POINT (-111.8334689 33.40739482)  \n",
       "994       NaN        Adults   POINT (-111.8334516 33.4073513)  \n",
       "65        Yes       Seniors   POINT (-111.8262637 33.4142765)  \n",
       "701       NaN  Older Adults   POINT (-111.8233899 33.4081238)  \n",
       "1070      NaN  Older Adults  POINT (-111.6837261 33.42181642)  \n",
       "\n",
       "[5 rows x 71 columns]"
      ]
     },
     "execution_count": 10,
     "metadata": {},
     "output_type": "execute_result"
    }
   ],
   "source": [
    "mesa_subset.head(5)"
   ]
  },
  {
   "cell_type": "markdown",
   "id": "7a4cc786-6a7c-4ff5-a52f-465dc0456668",
   "metadata": {},
   "source": [
    "### Create column for days since first experienced homelessness"
   ]
  },
  {
   "cell_type": "code",
   "execution_count": 11,
   "id": "59b0ac7f-d3af-4f78-9493-4de88ce6022d",
   "metadata": {},
   "outputs": [],
   "source": [
    "# extract only the date information from the CreationDate_Converted (the day the data was collected)\n",
    "mesa_subset[\"CreationDate_Converted_extract\"] = mesa_subset['CreationDate_Converted'].str.split(' ').str[0]\n"
   ]
  },
  {
   "cell_type": "code",
   "execution_count": 12,
   "id": "b639ef34-0c44-4c13-895d-cfe1b9bb66ea",
   "metadata": {},
   "outputs": [
    {
     "name": "stdout",
     "output_type": "stream",
     "text": [
      "MagId\n",
      "1036    01/25/2022\n",
      "994     01/25/2022\n",
      "65      01/25/2022\n",
      "701     01/25/2022\n",
      "1070    01/25/2022\n",
      "           ...    \n",
      "770     01/25/2022\n",
      "917     01/25/2022\n",
      "167     01/25/2022\n",
      "1280    01/25/2022\n",
      "531     01/25/2022\n",
      "Name: CreationDate_Converted_extract, Length: 191, dtype: object\n"
     ]
    }
   ],
   "source": [
    "# check if it is done correctly\n",
    "print(mesa_subset[\"CreationDate_Converted_extract\"])"
   ]
  },
  {
   "cell_type": "code",
   "execution_count": 13,
   "id": "46484a64-1c25-4faa-94d7-1dfa4a303440",
   "metadata": {},
   "outputs": [],
   "source": [
    "# create new column converting the column into datetime type\n",
    "mesa_subset['CreationDate_Converted_datetime'] = pd.to_datetime(mesa_subset[\"CreationDate_Converted_extract\"], format='%m/%d/%Y', errors='coerce')"
   ]
  },
  {
   "cell_type": "code",
   "execution_count": 14,
   "id": "41786aab-ec84-4199-981c-daa232f49842",
   "metadata": {},
   "outputs": [
    {
     "name": "stdout",
     "output_type": "stream",
     "text": [
      "MagId\n",
      "1036   2022-01-25\n",
      "994    2022-01-25\n",
      "65     2022-01-25\n",
      "701    2022-01-25\n",
      "1070   2022-01-25\n",
      "          ...    \n",
      "770    2022-01-25\n",
      "917    2022-01-25\n",
      "167    2022-01-25\n",
      "1280   2022-01-25\n",
      "531    2022-01-25\n",
      "Name: CreationDate_Converted_datetime, Length: 191, dtype: datetime64[ns]\n"
     ]
    }
   ],
   "source": [
    "# check if it is done correctly\n",
    "print(mesa_subset[\"CreationDate_Converted_datetime\"])"
   ]
  },
  {
   "cell_type": "code",
   "execution_count": 15,
   "id": "e9b166cf-a291-470a-8fb5-a9be6722064e",
   "metadata": {},
   "outputs": [],
   "source": [
    "# extract only the date information from the Date Homeless Began \n",
    "mesa_subset[\"Date_Homeless_Began_extract\"] = mesa_subset['Date Homeless Began'].str.split(' ').str[0]"
   ]
  },
  {
   "cell_type": "code",
   "execution_count": 16,
   "id": "0b1e5db2-ef9b-41c7-afa9-04ad6b211f9f",
   "metadata": {},
   "outputs": [
    {
     "name": "stdout",
     "output_type": "stream",
     "text": [
      "MagId\n",
      "1036    01/30/2021\n",
      "994     09/30/2021\n",
      "65      01/03/2020\n",
      "701     06/01/2020\n",
      "1070    08/07/2021\n",
      "           ...    \n",
      "770     12/02/2021\n",
      "917     12/12/2021\n",
      "167     01/25/2022\n",
      "1280    01/01/1985\n",
      "531     11/12/2020\n",
      "Name: Date_Homeless_Began_extract, Length: 191, dtype: object\n"
     ]
    }
   ],
   "source": [
    "# check if it is done correctly\n",
    "print(mesa_subset[\"Date_Homeless_Began_extract\"])"
   ]
  },
  {
   "cell_type": "code",
   "execution_count": 17,
   "id": "a8f01837-0eb0-44ec-a2bb-2ddce6e96bff",
   "metadata": {},
   "outputs": [],
   "source": [
    "# create new column converting the column into datetime type\n",
    "mesa_subset['Date_Homeless_Began_datetime'] = pd.to_datetime(mesa_subset[\"Date_Homeless_Began_extract\"], format='%m/%d/%Y', errors='coerce')"
   ]
  },
  {
   "cell_type": "code",
   "execution_count": 18,
   "id": "18d9273a-2597-411c-9daf-125b9ce39969",
   "metadata": {},
   "outputs": [
    {
     "name": "stdout",
     "output_type": "stream",
     "text": [
      "MagId\n",
      "1036   2021-01-30\n",
      "994    2021-09-30\n",
      "65     2020-01-03\n",
      "701    2020-06-01\n",
      "1070   2021-08-07\n",
      "          ...    \n",
      "770    2021-12-02\n",
      "917    2021-12-12\n",
      "167    2022-01-25\n",
      "1280   1985-01-01\n",
      "531    2020-11-12\n",
      "Name: Date_Homeless_Began_datetime, Length: 191, dtype: datetime64[ns]\n"
     ]
    }
   ],
   "source": [
    "# check if it is done correctly\n",
    "print(mesa_subset[\"Date_Homeless_Began_datetime\"])"
   ]
  },
  {
   "cell_type": "code",
   "execution_count": 19,
   "id": "1605392b-de80-45bb-a2ae-64a64ef70d0a",
   "metadata": {},
   "outputs": [],
   "source": [
    "# create column counting the days between when homelessness started and date of survey\n",
    "mesa_subset['Homeless_days'] = (mesa_subset[\"CreationDate_Converted_datetime\"] - mesa_subset[\"Date_Homeless_Began_datetime\"]).dt.days"
   ]
  },
  {
   "cell_type": "markdown",
   "id": "645724a6-3453-4888-99f3-bd9560c4e4d9",
   "metadata": {},
   "source": [
    "### Subset data for cluster analysis"
   ]
  },
  {
   "cell_type": "code",
   "execution_count": 20,
   "id": "67e90c39-d672-4019-9d47-cdc0831fbae5",
   "metadata": {},
   "outputs": [],
   "source": [
    "# subset to columns of interest for cluster analysis - First time homeless, How many times homeless\n",
    "mesa_cluster = mesa_subset[[\"First Time Homelessness\", \"How many times homeless\", \"Homeless_days\"]]"
   ]
  },
  {
   "cell_type": "code",
   "execution_count": 21,
   "id": "65f0398e-a696-494a-9e2d-14894a4340ee",
   "metadata": {},
   "outputs": [
    {
     "data": {
      "text/html": [
       "<div>\n",
       "<style scoped>\n",
       "    .dataframe tbody tr th:only-of-type {\n",
       "        vertical-align: middle;\n",
       "    }\n",
       "\n",
       "    .dataframe tbody tr th {\n",
       "        vertical-align: top;\n",
       "    }\n",
       "\n",
       "    .dataframe thead th {\n",
       "        text-align: right;\n",
       "    }\n",
       "</style>\n",
       "<table border=\"1\" class=\"dataframe\">\n",
       "  <thead>\n",
       "    <tr style=\"text-align: right;\">\n",
       "      <th></th>\n",
       "      <th>First Time Homelessness</th>\n",
       "      <th>How many times homeless</th>\n",
       "      <th>Homeless_days</th>\n",
       "    </tr>\n",
       "    <tr>\n",
       "      <th>MagId</th>\n",
       "      <th></th>\n",
       "      <th></th>\n",
       "      <th></th>\n",
       "    </tr>\n",
       "  </thead>\n",
       "  <tbody>\n",
       "    <tr>\n",
       "      <th>1036</th>\n",
       "      <td>True</td>\n",
       "      <td>NaN</td>\n",
       "      <td>360.0</td>\n",
       "    </tr>\n",
       "    <tr>\n",
       "      <th>994</th>\n",
       "      <td>False</td>\n",
       "      <td>one</td>\n",
       "      <td>117.0</td>\n",
       "    </tr>\n",
       "    <tr>\n",
       "      <th>65</th>\n",
       "      <td>False</td>\n",
       "      <td>four+</td>\n",
       "      <td>753.0</td>\n",
       "    </tr>\n",
       "    <tr>\n",
       "      <th>701</th>\n",
       "      <td>False</td>\n",
       "      <td>four+</td>\n",
       "      <td>603.0</td>\n",
       "    </tr>\n",
       "    <tr>\n",
       "      <th>1070</th>\n",
       "      <td>True</td>\n",
       "      <td>NaN</td>\n",
       "      <td>171.0</td>\n",
       "    </tr>\n",
       "  </tbody>\n",
       "</table>\n",
       "</div>"
      ],
      "text/plain": [
       "      First Time Homelessness How many times homeless  Homeless_days\n",
       "MagId                                                               \n",
       "1036                     True                     NaN          360.0\n",
       "994                     False                     one          117.0\n",
       "65                      False                   four+          753.0\n",
       "701                     False                   four+          603.0\n",
       "1070                     True                     NaN          171.0"
      ]
     },
     "execution_count": 21,
     "metadata": {},
     "output_type": "execute_result"
    }
   ],
   "source": [
    "# check dataset\n",
    "mesa_cluster.head(5)"
   ]
  },
  {
   "cell_type": "code",
   "execution_count": 22,
   "id": "dfc13117-3136-4712-a79d-ceda484a5c27",
   "metadata": {},
   "outputs": [
    {
     "name": "stdout",
     "output_type": "stream",
     "text": [
      "First Time Homelessness     0\n",
      "How many times homeless    96\n",
      "Homeless_days              14\n",
      "dtype: int64\n"
     ]
    }
   ],
   "source": [
    "# count number of nas is each column\n",
    "print(mesa_cluster.isna().sum())"
   ]
  },
  {
   "cell_type": "code",
   "execution_count": 23,
   "id": "73b441b9-4412-4a9e-abaf-77d38df24443",
   "metadata": {},
   "outputs": [
    {
     "name": "stderr",
     "output_type": "stream",
     "text": [
      "/tmp/ipykernel_243/346599689.py:2: SettingWithCopyWarning: \n",
      "A value is trying to be set on a copy of a slice from a DataFrame\n",
      "\n",
      "See the caveats in the documentation: https://pandas.pydata.org/pandas-docs/stable/user_guide/indexing.html#returning-a-view-versus-a-copy\n"
     ]
    }
   ],
   "source": [
    "# remove rows with nas in Homeless_days\n",
    "mesa_cluster.dropna(subset=['Homeless_days'], inplace = True)"
   ]
  },
  {
   "cell_type": "code",
   "execution_count": 24,
   "id": "83e42f42-c890-4d9a-bad0-294dcff67786",
   "metadata": {},
   "outputs": [
    {
     "data": {
      "text/plain": [
       "(177, 3)"
      ]
     },
     "execution_count": 24,
     "metadata": {},
     "output_type": "execute_result"
    }
   ],
   "source": [
    "# count the number of rows in data set\n",
    "mesa_cluster.shape"
   ]
  },
  {
   "cell_type": "code",
   "execution_count": 25,
   "id": "929c78b0-f578-4f45-92f5-495a72b2aa77",
   "metadata": {},
   "outputs": [
    {
     "name": "stdout",
     "output_type": "stream",
     "text": [
      "First Time Homelessness     0\n",
      "How many times homeless    84\n",
      "Homeless_days               0\n",
      "dtype: int64\n"
     ]
    }
   ],
   "source": [
    "# count number of nas is each column\n",
    "print(mesa_cluster.isna().sum())"
   ]
  },
  {
   "cell_type": "code",
   "execution_count": 26,
   "id": "d0431cf5-8c54-486e-9b36-e2d7d48badc9",
   "metadata": {},
   "outputs": [
    {
     "name": "stderr",
     "output_type": "stream",
     "text": [
      "/tmp/ipykernel_243/1147925255.py:2: SettingWithCopyWarning: \n",
      "A value is trying to be set on a copy of a slice from a DataFrame.\n",
      "Try using .loc[row_indexer,col_indexer] = value instead\n",
      "\n",
      "See the caveats in the documentation: https://pandas.pydata.org/pandas-docs/stable/user_guide/indexing.html#returning-a-view-versus-a-copy\n"
     ]
    }
   ],
   "source": [
    "# replace NAs in 'how many times homeless' column\n",
    "mesa_cluster['How many times homeless'] = mesa_cluster['How many times homeless'].fillna('one')"
   ]
  },
  {
   "cell_type": "code",
   "execution_count": 27,
   "id": "dd76f776-f0b3-4152-aa90-3b3abd628f2f",
   "metadata": {},
   "outputs": [
    {
     "data": {
      "text/html": [
       "<div>\n",
       "<style scoped>\n",
       "    .dataframe tbody tr th:only-of-type {\n",
       "        vertical-align: middle;\n",
       "    }\n",
       "\n",
       "    .dataframe tbody tr th {\n",
       "        vertical-align: top;\n",
       "    }\n",
       "\n",
       "    .dataframe thead th {\n",
       "        text-align: right;\n",
       "    }\n",
       "</style>\n",
       "<table border=\"1\" class=\"dataframe\">\n",
       "  <thead>\n",
       "    <tr style=\"text-align: right;\">\n",
       "      <th></th>\n",
       "      <th>First Time Homelessness</th>\n",
       "      <th>How many times homeless</th>\n",
       "      <th>Homeless_days</th>\n",
       "    </tr>\n",
       "    <tr>\n",
       "      <th>MagId</th>\n",
       "      <th></th>\n",
       "      <th></th>\n",
       "      <th></th>\n",
       "    </tr>\n",
       "  </thead>\n",
       "  <tbody>\n",
       "    <tr>\n",
       "      <th>1036</th>\n",
       "      <td>True</td>\n",
       "      <td>one</td>\n",
       "      <td>360.0</td>\n",
       "    </tr>\n",
       "    <tr>\n",
       "      <th>994</th>\n",
       "      <td>False</td>\n",
       "      <td>one</td>\n",
       "      <td>117.0</td>\n",
       "    </tr>\n",
       "    <tr>\n",
       "      <th>65</th>\n",
       "      <td>False</td>\n",
       "      <td>four+</td>\n",
       "      <td>753.0</td>\n",
       "    </tr>\n",
       "    <tr>\n",
       "      <th>701</th>\n",
       "      <td>False</td>\n",
       "      <td>four+</td>\n",
       "      <td>603.0</td>\n",
       "    </tr>\n",
       "    <tr>\n",
       "      <th>1070</th>\n",
       "      <td>True</td>\n",
       "      <td>one</td>\n",
       "      <td>171.0</td>\n",
       "    </tr>\n",
       "  </tbody>\n",
       "</table>\n",
       "</div>"
      ],
      "text/plain": [
       "      First Time Homelessness How many times homeless  Homeless_days\n",
       "MagId                                                               \n",
       "1036                     True                     one          360.0\n",
       "994                     False                     one          117.0\n",
       "65                      False                   four+          753.0\n",
       "701                     False                   four+          603.0\n",
       "1070                     True                     one          171.0"
      ]
     },
     "execution_count": 27,
     "metadata": {},
     "output_type": "execute_result"
    }
   ],
   "source": [
    "# check data again\n",
    "mesa_cluster.head(5)"
   ]
  },
  {
   "cell_type": "markdown",
   "id": "0ef0ce27-b478-43c8-97b5-0a51cc95f4df",
   "metadata": {},
   "source": [
    "## Data exploration"
   ]
  },
  {
   "cell_type": "code",
   "execution_count": 28,
   "id": "af0619ed-60e0-4eba-8fb1-425d992fb754",
   "metadata": {},
   "outputs": [
    {
     "name": "stdout",
     "output_type": "stream",
     "text": [
      "First Time Homelessness\n",
      "False    93\n",
      "True     84\n",
      "dtype: int64\n"
     ]
    }
   ],
   "source": [
    "# First Time Homelessness\n",
    "print(mesa_cluster.groupby('First Time Homelessness').size())"
   ]
  },
  {
   "cell_type": "code",
   "execution_count": 29,
   "id": "f9132587-0037-4da4-8ade-fae5a3363c05",
   "metadata": {},
   "outputs": [
    {
     "name": "stdout",
     "output_type": "stream",
     "text": [
      "How many times homeless\n",
      "DK/REF     22\n",
      "four+      29\n",
      "one       105\n",
      "three      10\n",
      "two        11\n",
      "dtype: int64\n"
     ]
    }
   ],
   "source": [
    "# How many times homeless\n",
    "print(mesa_cluster.groupby('How many times homeless').size())"
   ]
  },
  {
   "cell_type": "code",
   "execution_count": 30,
   "id": "cd6a4414-1597-40bf-9b0b-11267273e316",
   "metadata": {},
   "outputs": [],
   "source": [
    "# remove DK/REF (don't know/refuse)\n",
    "mesa_cluster = mesa_cluster[mesa_cluster[\"How many times homeless\"]!= \"DK/REF\"]"
   ]
  },
  {
   "cell_type": "code",
   "execution_count": 31,
   "id": "bfd478c3-c351-44cb-bacb-3f9d2f6c0220",
   "metadata": {},
   "outputs": [
    {
     "data": {
      "text/plain": [
       "(155, 3)"
      ]
     },
     "execution_count": 31,
     "metadata": {},
     "output_type": "execute_result"
    }
   ],
   "source": [
    "# check the number of rows\n",
    "mesa_cluster.shape"
   ]
  },
  {
   "cell_type": "code",
   "execution_count": 32,
   "id": "541041a4-b86b-422e-8514-c920a2c89511",
   "metadata": {},
   "outputs": [
    {
     "name": "stdout",
     "output_type": "stream",
     "text": [
      "883.6967741935484\n",
      "1567.418936258834\n"
     ]
    }
   ],
   "source": [
    "# Homeless days\n",
    "mean_homeless_days = mesa_cluster['Homeless_days'].mean()\n",
    "print(mean_homeless_days)\n",
    "std_homeless_days = mesa_cluster['Homeless_days'].std()\n",
    "print(std_homeless_days)"
   ]
  },
  {
   "cell_type": "code",
   "execution_count": 33,
   "id": "9b84a02c-2100-4a4d-8a44-066fe644b639",
   "metadata": {},
   "outputs": [
    {
     "data": {
      "text/plain": [
       "(0.0, 0.002)"
      ]
     },
     "execution_count": 33,
     "metadata": {},
     "output_type": "execute_result"
    },
    {
     "data": {
      "image/png": "[encoded data removed]",
      "text/plain": [
       "<Figure size 432x288 with 1 Axes>"
      ]
     },
     "metadata": {
      "needs_background": "light"
     },
     "output_type": "display_data"
    }
   ],
   "source": [
    "# check distribution\n",
    "bottom_homeless_days = mesa_cluster['Homeless_days'].min()-1\n",
    "top_homeless_days = mesa_cluster['Homeless_days'].max()+1\n",
    "x_range = [bottom_homeless_days, top_homeless_days]\n",
    "y_range = [0,0.002]\n",
    "plt.figure(1)\n",
    "mesa_cluster['Homeless_days'].hist(range=x_range, bins=30, density = True, stacked = True)\n",
    "plt.ylim(y_range) "
   ]
  },
  {
   "cell_type": "code",
   "execution_count": 34,
   "id": "f78569fd-fe83-4e78-b46a-a1161165ceec",
   "metadata": {},
   "outputs": [],
   "source": [
    "# graph shows a positive skew\n",
    "# log transformation for appropriate clustering\n",
    "scaler = RobustScaler()\n",
    "mesa_cluster['cbrt_homeless_days'] = scaler.fit_transform(mesa_cluster['Homeless_days'].values.reshape(-1,1))"
   ]
  },
  {
   "cell_type": "code",
   "execution_count": 35,
   "id": "12929c57-8e72-4241-b19f-a7a26c718ab9",
   "metadata": {},
   "outputs": [
    {
     "name": "stdout",
     "output_type": "stream",
     "text": [
      "0.5996808149405776\n",
      "1.6499146697461406\n"
     ]
    }
   ],
   "source": [
    "# cbrt_homeless_days\n",
    "mean_cbrt_homeless_days = mesa_cluster['cbrt_homeless_days'].mean()\n",
    "print(mean_cbrt_homeless_days)\n",
    "std_cbrt_homeless_days = mesa_cluster['cbrt_homeless_days'].std()\n",
    "print(std_cbrt_homeless_days)"
   ]
  },
  {
   "cell_type": "code",
   "execution_count": 36,
   "id": "a6d05d96-2d95-432f-9018-1ea10f121ce8",
   "metadata": {},
   "outputs": [
    {
     "name": "stderr",
     "output_type": "stream",
     "text": [
      "/opt/conda/lib/python3.10/site-packages/seaborn/distributions.py:2619: FutureWarning: `distplot` is a deprecated function and will be removed in a future version. Please adapt your code to use either `displot` (a figure-level function with similar flexibility) or `histplot` (an axes-level function for histograms).\n"
     ]
    },
    {
     "data": {
      "image/png": "[encoded data removed]",
      "text/plain": [
       "<Figure size 576x345.6 with 1 Axes>"
      ]
     },
     "metadata": {
      "needs_background": "light"
     },
     "output_type": "display_data"
    }
   ],
   "source": [
    "fig, ax = plt.subplots(1, 1, figsize=(8, 4.8))\n",
    "sns.set(style = 'whitegrid')\n",
    "sns.distplot(ax=ax, a=mesa_cluster[\"Homeless_days\"])\n",
    "ax.set(xlabel='Homeless days')\n",
    "plt.savefig('distribtion.png')"
   ]
  },
  {
   "cell_type": "code",
   "execution_count": 37,
   "id": "8d63a9c2-4ecc-46a4-9512-67c8c100bb5a",
   "metadata": {},
   "outputs": [
    {
     "name": "stderr",
     "output_type": "stream",
     "text": [
      "/tmp/ipykernel_243/976225524.py:1: FutureWarning: Dropping of nuisance columns in DataFrame reductions (with 'numeric_only=None') is deprecated; in a future version this will raise TypeError.  Select only valid columns before calling the reduction.\n"
     ]
    },
    {
     "data": {
      "text/plain": [
       "First Time Homelessness   -0.169984\n",
       "Homeless_days              4.264571\n",
       "cbrt_homeless_days         4.264571\n",
       "dtype: float64"
      ]
     },
     "execution_count": 37,
     "metadata": {},
     "output_type": "execute_result"
    }
   ],
   "source": [
    "mesa_cluster.skew(axis = 0, skipna = True)"
   ]
  },
  {
   "cell_type": "code",
   "execution_count": 38,
   "id": "5cef45b6-b3a7-4f38-bf74-a2ec0de16805",
   "metadata": {},
   "outputs": [
    {
     "data": {
      "text/html": [
       "<div>\n",
       "<style scoped>\n",
       "    .dataframe tbody tr th:only-of-type {\n",
       "        vertical-align: middle;\n",
       "    }\n",
       "\n",
       "    .dataframe tbody tr th {\n",
       "        vertical-align: top;\n",
       "    }\n",
       "\n",
       "    .dataframe thead th {\n",
       "        text-align: right;\n",
       "    }\n",
       "</style>\n",
       "<table border=\"1\" class=\"dataframe\">\n",
       "  <thead>\n",
       "    <tr style=\"text-align: right;\">\n",
       "      <th></th>\n",
       "      <th>Homeless_days</th>\n",
       "      <th>cbrt_homeless_days</th>\n",
       "    </tr>\n",
       "  </thead>\n",
       "  <tbody>\n",
       "    <tr>\n",
       "      <th>count</th>\n",
       "      <td>155.000000</td>\n",
       "      <td>155.000000</td>\n",
       "    </tr>\n",
       "    <tr>\n",
       "      <th>mean</th>\n",
       "      <td>883.696774</td>\n",
       "      <td>0.599681</td>\n",
       "    </tr>\n",
       "    <tr>\n",
       "      <th>std</th>\n",
       "      <td>1567.418936</td>\n",
       "      <td>1.649915</td>\n",
       "    </tr>\n",
       "    <tr>\n",
       "      <th>min</th>\n",
       "      <td>0.000000</td>\n",
       "      <td>-0.330526</td>\n",
       "    </tr>\n",
       "    <tr>\n",
       "      <th>25%</th>\n",
       "      <td>34.500000</td>\n",
       "      <td>-0.294211</td>\n",
       "    </tr>\n",
       "    <tr>\n",
       "      <th>50%</th>\n",
       "      <td>314.000000</td>\n",
       "      <td>0.000000</td>\n",
       "    </tr>\n",
       "    <tr>\n",
       "      <th>75%</th>\n",
       "      <td>984.500000</td>\n",
       "      <td>0.705789</td>\n",
       "    </tr>\n",
       "    <tr>\n",
       "      <th>max</th>\n",
       "      <td>13538.000000</td>\n",
       "      <td>13.920000</td>\n",
       "    </tr>\n",
       "  </tbody>\n",
       "</table>\n",
       "</div>"
      ],
      "text/plain": [
       "       Homeless_days  cbrt_homeless_days\n",
       "count     155.000000          155.000000\n",
       "mean      883.696774            0.599681\n",
       "std      1567.418936            1.649915\n",
       "min         0.000000           -0.330526\n",
       "25%        34.500000           -0.294211\n",
       "50%       314.000000            0.000000\n",
       "75%       984.500000            0.705789\n",
       "max     13538.000000           13.920000"
      ]
     },
     "execution_count": 38,
     "metadata": {},
     "output_type": "execute_result"
    }
   ],
   "source": [
    "mesa_cluster.describe()"
   ]
  },
  {
   "cell_type": "code",
   "execution_count": 39,
   "id": "a76e6694-70d2-4052-a063-213cb32a3621",
   "metadata": {},
   "outputs": [
    {
     "data": {
      "text/html": [
       "<div>\n",
       "<style scoped>\n",
       "    .dataframe tbody tr th:only-of-type {\n",
       "        vertical-align: middle;\n",
       "    }\n",
       "\n",
       "    .dataframe tbody tr th {\n",
       "        vertical-align: top;\n",
       "    }\n",
       "\n",
       "    .dataframe thead th {\n",
       "        text-align: right;\n",
       "    }\n",
       "</style>\n",
       "<table border=\"1\" class=\"dataframe\">\n",
       "  <thead>\n",
       "    <tr style=\"text-align: right;\">\n",
       "      <th></th>\n",
       "      <th>First Time Homelessness</th>\n",
       "      <th>How many times homeless</th>\n",
       "      <th>Homeless_days</th>\n",
       "      <th>cbrt_homeless_days</th>\n",
       "    </tr>\n",
       "    <tr>\n",
       "      <th>MagId</th>\n",
       "      <th></th>\n",
       "      <th></th>\n",
       "      <th></th>\n",
       "      <th></th>\n",
       "    </tr>\n",
       "  </thead>\n",
       "  <tbody>\n",
       "    <tr>\n",
       "      <th>1036</th>\n",
       "      <td>True</td>\n",
       "      <td>one</td>\n",
       "      <td>360.0</td>\n",
       "      <td>0.048421</td>\n",
       "    </tr>\n",
       "    <tr>\n",
       "      <th>994</th>\n",
       "      <td>False</td>\n",
       "      <td>one</td>\n",
       "      <td>117.0</td>\n",
       "      <td>-0.207368</td>\n",
       "    </tr>\n",
       "    <tr>\n",
       "      <th>65</th>\n",
       "      <td>False</td>\n",
       "      <td>four+</td>\n",
       "      <td>753.0</td>\n",
       "      <td>0.462105</td>\n",
       "    </tr>\n",
       "    <tr>\n",
       "      <th>701</th>\n",
       "      <td>False</td>\n",
       "      <td>four+</td>\n",
       "      <td>603.0</td>\n",
       "      <td>0.304211</td>\n",
       "    </tr>\n",
       "    <tr>\n",
       "      <th>1070</th>\n",
       "      <td>True</td>\n",
       "      <td>one</td>\n",
       "      <td>171.0</td>\n",
       "      <td>-0.150526</td>\n",
       "    </tr>\n",
       "  </tbody>\n",
       "</table>\n",
       "</div>"
      ],
      "text/plain": [
       "      First Time Homelessness How many times homeless  Homeless_days  \\\n",
       "MagId                                                                  \n",
       "1036                     True                     one          360.0   \n",
       "994                     False                     one          117.0   \n",
       "65                      False                   four+          753.0   \n",
       "701                     False                   four+          603.0   \n",
       "1070                     True                     one          171.0   \n",
       "\n",
       "       cbrt_homeless_days  \n",
       "MagId                      \n",
       "1036             0.048421  \n",
       "994             -0.207368  \n",
       "65               0.462105  \n",
       "701              0.304211  \n",
       "1070            -0.150526  "
      ]
     },
     "execution_count": 39,
     "metadata": {},
     "output_type": "execute_result"
    }
   ],
   "source": [
    "# check data layout\n",
    "mesa_cluster.head(5)"
   ]
  },
  {
   "cell_type": "code",
   "execution_count": 40,
   "id": "85b6963a-706c-45a7-b339-cf2ff3fd5ad8",
   "metadata": {},
   "outputs": [],
   "source": [
    "# drop original column of homeless_days for cluster analysis\n",
    "mesa_cluster.drop(\"Homeless_days\", axis=1, inplace = True)"
   ]
  },
  {
   "cell_type": "code",
   "execution_count": 41,
   "id": "caaff084-c19f-4217-a42d-02eee02f61b4",
   "metadata": {},
   "outputs": [
    {
     "data": {
      "text/html": [
       "<div>\n",
       "<style scoped>\n",
       "    .dataframe tbody tr th:only-of-type {\n",
       "        vertical-align: middle;\n",
       "    }\n",
       "\n",
       "    .dataframe tbody tr th {\n",
       "        vertical-align: top;\n",
       "    }\n",
       "\n",
       "    .dataframe thead th {\n",
       "        text-align: right;\n",
       "    }\n",
       "</style>\n",
       "<table border=\"1\" class=\"dataframe\">\n",
       "  <thead>\n",
       "    <tr style=\"text-align: right;\">\n",
       "      <th></th>\n",
       "      <th>First Time Homelessness</th>\n",
       "      <th>How many times homeless</th>\n",
       "      <th>cbrt_homeless_days</th>\n",
       "    </tr>\n",
       "    <tr>\n",
       "      <th>MagId</th>\n",
       "      <th></th>\n",
       "      <th></th>\n",
       "      <th></th>\n",
       "    </tr>\n",
       "  </thead>\n",
       "  <tbody>\n",
       "    <tr>\n",
       "      <th>1036</th>\n",
       "      <td>True</td>\n",
       "      <td>one</td>\n",
       "      <td>0.048421</td>\n",
       "    </tr>\n",
       "    <tr>\n",
       "      <th>994</th>\n",
       "      <td>False</td>\n",
       "      <td>one</td>\n",
       "      <td>-0.207368</td>\n",
       "    </tr>\n",
       "    <tr>\n",
       "      <th>65</th>\n",
       "      <td>False</td>\n",
       "      <td>four+</td>\n",
       "      <td>0.462105</td>\n",
       "    </tr>\n",
       "    <tr>\n",
       "      <th>701</th>\n",
       "      <td>False</td>\n",
       "      <td>four+</td>\n",
       "      <td>0.304211</td>\n",
       "    </tr>\n",
       "    <tr>\n",
       "      <th>1070</th>\n",
       "      <td>True</td>\n",
       "      <td>one</td>\n",
       "      <td>-0.150526</td>\n",
       "    </tr>\n",
       "    <tr>\n",
       "      <th>...</th>\n",
       "      <td>...</td>\n",
       "      <td>...</td>\n",
       "      <td>...</td>\n",
       "    </tr>\n",
       "    <tr>\n",
       "      <th>770</th>\n",
       "      <td>False</td>\n",
       "      <td>four+</td>\n",
       "      <td>-0.273684</td>\n",
       "    </tr>\n",
       "    <tr>\n",
       "      <th>917</th>\n",
       "      <td>False</td>\n",
       "      <td>three</td>\n",
       "      <td>-0.284211</td>\n",
       "    </tr>\n",
       "    <tr>\n",
       "      <th>167</th>\n",
       "      <td>True</td>\n",
       "      <td>one</td>\n",
       "      <td>-0.330526</td>\n",
       "    </tr>\n",
       "    <tr>\n",
       "      <th>1280</th>\n",
       "      <td>False</td>\n",
       "      <td>four+</td>\n",
       "      <td>13.920000</td>\n",
       "    </tr>\n",
       "    <tr>\n",
       "      <th>531</th>\n",
       "      <td>False</td>\n",
       "      <td>four+</td>\n",
       "      <td>0.131579</td>\n",
       "    </tr>\n",
       "  </tbody>\n",
       "</table>\n",
       "<p>155 rows × 3 columns</p>\n",
       "</div>"
      ],
      "text/plain": [
       "      First Time Homelessness How many times homeless  cbrt_homeless_days\n",
       "MagId                                                                    \n",
       "1036                     True                     one            0.048421\n",
       "994                     False                     one           -0.207368\n",
       "65                      False                   four+            0.462105\n",
       "701                     False                   four+            0.304211\n",
       "1070                     True                     one           -0.150526\n",
       "...                       ...                     ...                 ...\n",
       "770                     False                   four+           -0.273684\n",
       "917                     False                   three           -0.284211\n",
       "167                      True                     one           -0.330526\n",
       "1280                    False                   four+           13.920000\n",
       "531                     False                   four+            0.131579\n",
       "\n",
       "[155 rows x 3 columns]"
      ]
     },
     "execution_count": 41,
     "metadata": {},
     "output_type": "execute_result"
    }
   ],
   "source": [
    "# check data layout\n",
    "mesa_cluster"
   ]
  },
  {
   "cell_type": "code",
   "execution_count": 42,
   "id": "59fb9b86-4a35-423c-af35-7188162c1b64",
   "metadata": {},
   "outputs": [
    {
     "data": {
      "text/plain": [
       "True     54.193548\n",
       "False    45.806452\n",
       "Name: First Time Homelessness, dtype: float64"
      ]
     },
     "execution_count": 42,
     "metadata": {},
     "output_type": "execute_result"
    }
   ],
   "source": [
    "mesa_cluster['First Time Homelessness'].value_counts(normalize=True) * 100"
   ]
  },
  {
   "cell_type": "code",
   "execution_count": 43,
   "id": "e7729585-e54b-4844-a641-0701631f1a4e",
   "metadata": {},
   "outputs": [
    {
     "data": {
      "text/plain": [
       "one      67.741935\n",
       "four+    18.709677\n",
       "two       7.096774\n",
       "three     6.451613\n",
       "Name: How many times homeless, dtype: float64"
      ]
     },
     "execution_count": 43,
     "metadata": {},
     "output_type": "execute_result"
    }
   ],
   "source": [
    "mesa_cluster['How many times homeless'].value_counts(normalize=True) * 100"
   ]
  },
  {
   "cell_type": "code",
   "execution_count": 44,
   "id": "1ec4ee6e-74c1-4a1b-ac09-70fc12391ce3",
   "metadata": {},
   "outputs": [
    {
     "data": {
      "text/plain": [
       "First Time Homelessness     object\n",
       "How many times homeless     object\n",
       "cbrt_homeless_days         float64\n",
       "dtype: object"
      ]
     },
     "execution_count": 44,
     "metadata": {},
     "output_type": "execute_result"
    }
   ],
   "source": [
    "mesa_cluster.dtypes"
   ]
  },
  {
   "cell_type": "code",
   "execution_count": 45,
   "id": "b6cfb194-2df5-4226-a35d-c3b088e92af3",
   "metadata": {},
   "outputs": [],
   "source": [
    "mesa_cluster[\"First Time Homelessness\"] = mesa_cluster[\"First Time Homelessness\"].astype('category')"
   ]
  },
  {
   "cell_type": "markdown",
   "id": "dac3a78b-fd40-43fc-98f8-9f02dab5a3b0",
   "metadata": {},
   "source": [
    "## Cluster Analysis - kprototype"
   ]
  },
  {
   "cell_type": "code",
   "execution_count": 46,
   "id": "cf5fe14e-a309-4aa8-aac7-47cca71d27f7",
   "metadata": {},
   "outputs": [
    {
     "data": {
      "text/plain": [
       "array([[True, 'one', 0.04842105263157895],\n",
       "       [False, 'one', -0.2073684210526316],\n",
       "       [False, 'four+', 0.46210526315789474],\n",
       "       [False, 'four+', 0.3042105263157895],\n",
       "       [True, 'one', -0.15052631578947367],\n",
       "       [True, 'one', -0.2873684210526316],\n",
       "       [True, 'one', -0.2863157894736842],\n",
       "       [False, 'one', 2.3789473684210525],\n",
       "       [True, 'one', -0.1968421052631579],\n",
       "       [True, 'one', -0.2578947368421053],\n",
       "       [False, 'three', 0.848421052631579],\n",
       "       [True, 'one', -0.30526315789473685],\n",
       "       [False, 'one', -0.21894736842105264],\n",
       "       [True, 'one', 0.4010526315789474],\n",
       "       [True, 'one', 4.685263157894737],\n",
       "       [True, 'one', -0.3231578947368421],\n",
       "       [True, 'one', -0.30105263157894735],\n",
       "       [False, 'four+', 3.154736842105263],\n",
       "       [True, 'one', 2.002105263157895],\n",
       "       [True, 'one', 0.014736842105263158],\n",
       "       [True, 'one', 0.848421052631579],\n",
       "       [False, 'one', -0.2863157894736842],\n",
       "       [False, 'one', -0.33052631578947367],\n",
       "       [True, 'one', -0.33052631578947367],\n",
       "       [False, 'two', -0.3231578947368421],\n",
       "       [True, 'one', -0.04736842105263158],\n",
       "       [False, 'one', 1.2305263157894737],\n",
       "       [False, 'three', 1.348421052631579],\n",
       "       [False, 'four+', -0.33052631578947367],\n",
       "       [True, 'one', 0.04631578947368421],\n",
       "       [False, 'one', 5.46],\n",
       "       [False, 'two', -0.1168421052631579],\n",
       "       [True, 'one', 0.46421052631578946],\n",
       "       [True, 'one', 3.146315789473684],\n",
       "       [False, 'two', 0.05368421052631579],\n",
       "       [False, 'one', -0.33052631578947367],\n",
       "       [False, 'three', 1.8463157894736841],\n",
       "       [False, 'one', -0.2578947368421053],\n",
       "       [False, 'three', -0.2926315789473684],\n",
       "       [True, 'one', 0.848421052631579],\n",
       "       [False, 'two', 3.911578947368421],\n",
       "       [False, 'four+', 1.6168421052631579],\n",
       "       [False, 'three', -0.33052631578947367],\n",
       "       [True, 'one', -0.17684210526315788],\n",
       "       [True, 'one', 0.8157894736842105],\n",
       "       [True, 'one', -0.14421052631578948],\n",
       "       [True, 'one', 0.17578947368421052],\n",
       "       [True, 'one', -0.30105263157894735],\n",
       "       [False, 'one', 0.7536842105263157],\n",
       "       [False, 'four+', 0.0],\n",
       "       [False, 'four+', 0.22210526315789475],\n",
       "       [False, 'one', -0.33052631578947367],\n",
       "       [False, 'one', 3.54],\n",
       "       [True, 'one', -0.33052631578947367],\n",
       "       [True, 'one', 0.4494736842105263],\n",
       "       [False, 'two', -0.33052631578947367],\n",
       "       [True, 'one', 0.1431578947368421],\n",
       "       [False, 'one', 3.9147368421052633],\n",
       "       [True, 'one', -0.3157894736842105],\n",
       "       [True, 'one', -0.30105263157894735],\n",
       "       [True, 'one', -0.33052631578947367],\n",
       "       [False, 'one', -0.14210526315789473],\n",
       "       [True, 'one', -0.33052631578947367],\n",
       "       [False, 'two', -0.13789473684210526],\n",
       "       [False, 'four+', 1.4263157894736842],\n",
       "       [True, 'one', -0.30526315789473685],\n",
       "       [True, 'one', 0.8305263157894737],\n",
       "       [True, 'one', -0.33052631578947367],\n",
       "       [False, 'four+', 4.692631578947369],\n",
       "       [True, 'one', -0.32842105263157895],\n",
       "       [False, 'three', 0.46421052631578946],\n",
       "       [False, 'four+', 3.154736842105263],\n",
       "       [True, 'one', 3.54],\n",
       "       [False, 'one', 2.7705263157894735],\n",
       "       [True, 'one', 0.07368421052631578],\n",
       "       [True, 'one', 0.07894736842105263],\n",
       "       [True, 'one', -0.04736842105263158],\n",
       "       [False, 'four+', 0.07368421052631578],\n",
       "       [True, 'one', -0.30526315789473685],\n",
       "       [False, 'four+', 0.38421052631578945],\n",
       "       [True, 'one', 3.013684210526316],\n",
       "       [True, 'one', -0.11157894736842106],\n",
       "       [True, 'one', -0.1936842105263158],\n",
       "       [False, 'two', 0.24],\n",
       "       [True, 'one', -0.08],\n",
       "       [False, 'one', 0.46421052631578946],\n",
       "       [True, 'one', -0.015789473684210527],\n",
       "       [True, 'one', -0.21894736842105264],\n",
       "       [True, 'one', 2.3726315789473684],\n",
       "       [False, 'four+', -0.04736842105263158],\n",
       "       [False, 'four+', 0.6578947368421053],\n",
       "       [True, 'one', -0.33052631578947367],\n",
       "       [True, 'one', -0.3231578947368421],\n",
       "       [True, 'one', -0.33052631578947367],\n",
       "       [False, 'one', 1.2305263157894737],\n",
       "       [False, 'four+', 1.223157894736842],\n",
       "       [False, 'four+', -0.31473684210526315],\n",
       "       [True, 'one', -0.015789473684210527],\n",
       "       [False, 'four+', -0.33052631578947367],\n",
       "       [True, 'one', -0.33052631578947367],\n",
       "       [True, 'one', -0.33052631578947367],\n",
       "       [False, 'two', -0.3263157894736842],\n",
       "       [True, 'one', 0.3368421052631579],\n",
       "       [True, 'one', 0.14105263157894737],\n",
       "       [False, 'three', 0.8473684210526315],\n",
       "       [True, 'one', 4.66],\n",
       "       [True, 'one', -0.30526315789473685],\n",
       "       [False, 'four+', 0.6105263157894737],\n",
       "       [True, 'one', 0.011578947368421053],\n",
       "       [False, 'three', 0.4726315789473684],\n",
       "       [False, 'one', -0.33052631578947367],\n",
       "       [False, 'four+', 0.19052631578947368],\n",
       "       [True, 'one', 0.4494736842105263],\n",
       "       [False, 'two', -0.24105263157894738],\n",
       "       [False, 'four+', -0.29473684210526313],\n",
       "       [True, 'one', 1.0315789473684212],\n",
       "       [False, 'four+', 2.002105263157895],\n",
       "       [True, 'one', -0.18526315789473685],\n",
       "       [False, 'four+', 4.341052631578948],\n",
       "       [True, 'one', -0.3157894736842105],\n",
       "       [False, 'three', 0.46421052631578946],\n",
       "       [True, 'one', 0.06631578947368422],\n",
       "       [False, 'two', -0.13789473684210526],\n",
       "       [True, 'one', 2.3863157894736844],\n",
       "       [True, 'one', -0.21368421052631578],\n",
       "       [True, 'one', -0.1968421052631579],\n",
       "       [False, 'four+', -0.33052631578947367],\n",
       "       [False, 'four+', 2.002105263157895],\n",
       "       [False, 'one', -0.26631578947368423],\n",
       "       [True, 'one', -0.29368421052631577],\n",
       "       [False, 'four+', 1.6168421052631579],\n",
       "       [True, 'one', -0.16421052631578947],\n",
       "       [False, 'four+', 0.5610526315789474],\n",
       "       [False, 'two', -0.13789473684210526],\n",
       "       [True, 'one', 0.46421052631578946],\n",
       "       [True, 'one', 1.3936842105263159],\n",
       "       [False, 'one', 0.44842105263157894],\n",
       "       [True, 'one', -0.3094736842105263],\n",
       "       [True, 'one', -0.33052631578947367],\n",
       "       [True, 'one', 0.46421052631578946],\n",
       "       [True, 'one', -0.20842105263157895],\n",
       "       [True, 'one', 0.14421052631578948],\n",
       "       [True, 'one', 0.43157894736842106],\n",
       "       [False, 'one', 0.14105263157894737],\n",
       "       [True, 'one', -0.28421052631578947],\n",
       "       [True, 'one', 0.848421052631579],\n",
       "       [True, 'one', -0.33052631578947367],\n",
       "       [True, 'one', -0.33052631578947367],\n",
       "       [True, 'one', 0.07263157894736842],\n",
       "       [True, 'one', -0.13263157894736843],\n",
       "       [False, 'four+', -0.2736842105263158],\n",
       "       [False, 'three', -0.28421052631578947],\n",
       "       [True, 'one', -0.33052631578947367],\n",
       "       [False, 'four+', 13.92],\n",
       "       [False, 'four+', 0.13157894736842105]], dtype=object)"
      ]
     },
     "execution_count": 46,
     "metadata": {},
     "output_type": "execute_result"
    }
   ],
   "source": [
    "# Convert dataframe to matrix\n",
    "mesa_cluster_matrix = mesa_cluster.to_numpy()\n",
    "mesa_cluster_matrix"
   ]
  },
  {
   "cell_type": "code",
   "execution_count": 47,
   "id": "b22b0d7f-d801-4f09-927a-04c3d8c5f2da",
   "metadata": {},
   "outputs": [],
   "source": [
    "# create a list for the index of categorical index\n",
    "categorical_index = [0,1]"
   ]
  },
  {
   "cell_type": "markdown",
   "id": "123453f3-b23c-4e1c-9bb3-ed69959f3c91",
   "metadata": {},
   "source": [
    "### validation of k "
   ]
  },
  {
   "cell_type": "code",
   "execution_count": 75,
   "id": "9bad4d9c-0a49-4c26-a7af-7c7404080b31",
   "metadata": {},
   "outputs": [
    {
     "name": "stdout",
     "output_type": "stream",
     "text": [
      "Cluster initiation: 1\n",
      "Cluster initiation: 2\n",
      "Cluster initiation: 3\n",
      "Cluster initiation: 4\n",
      "Cluster initiation: 5\n",
      "Cluster initiation: 6\n",
      "Cluster initiation: 7\n",
      "Cluster initiation: 8\n",
      "Cluster initiation: 9\n",
      "Cluster initiation: 10\n"
     ]
    },
    {
     "name": "stderr",
     "output_type": "stream",
     "text": [
      "/opt/conda/lib/python3.10/site-packages/plotnine/ggplot.py:718: PlotnineWarning: Saving 6 x 3.6 in image.\n",
      "/opt/conda/lib/python3.10/site-packages/plotnine/ggplot.py:719: PlotnineWarning: Filename: test3.png\n"
     ]
    }
   ],
   "source": [
    "# Choose optimal K using Elbow method\n",
    "cost = []\n",
    "for cluster in range(1, 11):\n",
    "    try:\n",
    "        kprototype_cost = KPrototypes(n_jobs = -1, n_clusters = cluster, init = 'Huang', random_state = 0)\n",
    "        kprototype_cost.fit_predict(mesa_cluster_matrix, categorical = categorical_index)\n",
    "        cost.append(kprototype_cost.cost_)\n",
    "        print('Cluster initiation: {}'.format(cluster))\n",
    "    except:\n",
    "        break\n",
    "# Converting the results into a dataframe and plotting them\n",
    "df_cost = pd.DataFrame({'Cluster':range(1, 11), 'Cost':cost})\n",
    "# Data viz\n",
    "plotnine.options.figure_size = (8, 4.8)\n",
    "p_1 = (ggplot(data = df_cost)+\n",
    "geom_line(aes(x = 'Cluster',\n",
    "                  y = 'Cost'))+\n",
    "    geom_point(aes(x = 'Cluster',\n",
    "                   y = 'Cost')) +\n",
    "    scale_x_continuous(breaks=range(1, 11, 1)) +\n",
    "    xlab('Number of Clusters k')+\n",
    "    ylab('Cost'))\n",
    "\n",
    "p_1.save(filename = 'test3.png', height=3.6, width=6, units = 'in', dpi=1000)"
   ]
  },
  {
   "cell_type": "code",
   "execution_count": 68,
   "id": "5c0d8621-3cfe-4116-8a87-4930927bf711",
   "metadata": {},
   "outputs": [
    {
     "data": {
      "image/png": "[encoded data removed]",
      "text/plain": [
       "<Figure size 800x480 with 1 Axes>"
      ]
     },
     "metadata": {},
     "output_type": "display_data"
    },
    {
     "data": {
      "text/plain": [
       "<ggplot: (8783068193618)>"
      ]
     },
     "execution_count": 68,
     "metadata": {},
     "output_type": "execute_result"
    }
   ],
   "source": [
    "p_1"
   ]
  },
  {
   "cell_type": "code",
   "execution_count": 76,
   "id": "2b63279b-fd68-4631-afa6-39e0a0743ae1",
   "metadata": {},
   "outputs": [
    {
     "data": {
      "text/plain": [
       "array([0, 0, 2, 2, 0, 0, 0, 1, 0, 0, 2, 0, 0, 0, 1, 0, 0, 1, 1, 0, 0, 0,\n",
       "       0, 0, 2, 0, 2, 2, 2, 0, 1, 2, 0, 1, 2, 0, 2, 0, 2, 0, 1, 2, 2, 0,\n",
       "       0, 0, 0, 0, 2, 2, 2, 0, 1, 0, 0, 2, 0, 1, 0, 0, 0, 0, 0, 2, 2, 0,\n",
       "       0, 0, 1, 0, 2, 1, 1, 1, 0, 0, 0, 2, 0, 2, 1, 0, 0, 2, 0, 2, 0, 0,\n",
       "       1, 2, 2, 0, 0, 0, 2, 2, 2, 0, 2, 0, 0, 2, 0, 0, 2, 1, 0, 2, 0, 2,\n",
       "       0, 2, 0, 2, 2, 0, 2, 0, 1, 0, 2, 0, 2, 1, 0, 0, 2, 2, 0, 0, 2, 0,\n",
       "       2, 2, 0, 0, 2, 0, 0, 0, 0, 0, 0, 0, 0, 0, 0, 0, 0, 0, 2, 2, 0, 3,\n",
       "       2], dtype=uint16)"
      ]
     },
     "execution_count": 76,
     "metadata": {},
     "output_type": "execute_result"
    }
   ],
   "source": [
    "# Fit the cluster\n",
    "kprototype = KPrototypes(n_jobs = -1, n_clusters = 4, init = 'Huang', random_state = 0)\n",
    "kprototype.fit_predict(mesa_cluster_matrix, categorical = categorical_index)"
   ]
  },
  {
   "cell_type": "code",
   "execution_count": 74,
   "id": "fa9ec532-dbac-4478-a637-f15dc94cc195",
   "metadata": {},
   "outputs": [
    {
     "data": {
      "text/plain": [
       "array([['-0.04479804161566704', 'True', 'one'],\n",
       "       ['3.2845614035087713', 'False', 'one'],\n",
       "       ['13.919999999999996', 'False', 'four+'],\n",
       "       ['0.29590145576707716', 'False', 'four+']], dtype='<U32')"
      ]
     },
     "execution_count": 74,
     "metadata": {},
     "output_type": "execute_result"
    }
   ],
   "source": [
    "# Cluster centorid\n",
    "kprototype.cluster_centroids_"
   ]
  },
  {
   "cell_type": "code",
   "execution_count": 53,
   "id": "29f8109f-8287-4395-ba84-279d8df67dd6",
   "metadata": {},
   "outputs": [],
   "source": [
    "mesa_cluster[\"Cluster group\"] = kprototype.labels_"
   ]
  },
  {
   "cell_type": "code",
   "execution_count": 55,
   "id": "2de4859b-d919-4d43-9e3e-a7bed1677113",
   "metadata": {},
   "outputs": [],
   "source": [
    "mesa_cluster[\"Cluster group\"] = mesa_cluster[\"Cluster group\"] + 1"
   ]
  },
  {
   "cell_type": "code",
   "execution_count": 56,
   "id": "ff83e903-b038-409f-b6c3-f05f5e3cb910",
   "metadata": {},
   "outputs": [
    {
     "data": {
      "image/png": "[encoded data removed]",
      "text/plain": [
       "<Figure size 1080x360 with 2 Axes>"
      ]
     },
     "metadata": {},
     "output_type": "display_data"
    }
   ],
   "source": [
    "# create figure \n",
    "fig, axes = plt.subplots(1, 2, figsize=(15, 5))\n",
    "sns.set(style = 'whitegrid')\n",
    "sns.stripplot(ax=axes[0], x=\"First Time Homelessness\", y=\"cbrt_homeless_days\", hue=\"Cluster group\", data= mesa_cluster)\n",
    "sns.stripplot(ax=axes[1], x=\"How many times homeless\", y=\"cbrt_homeless_days\", hue=\"Cluster group\", data= mesa_cluster)\n",
    "axes[0].set(ylabel='Homeless days (IDR scaled)')\n",
    "axes[1].set(ylabel='Homeless days (IDR scaled)')\n",
    "plt.savefig('stripplot.png')"
   ]
  },
  {
   "cell_type": "code",
   "execution_count": 57,
   "id": "67d9afda-d549-4d9d-8a62-6b51cbb8690d",
   "metadata": {},
   "outputs": [
    {
     "data": {
      "text/plain": [
       "Cluster group\n",
       "1    87\n",
       "2    18\n",
       "3    49\n",
       "4     1\n",
       "dtype: int64"
      ]
     },
     "execution_count": 57,
     "metadata": {},
     "output_type": "execute_result"
    }
   ],
   "source": [
    "mesa_cluster.groupby(['Cluster group']).size()"
   ]
  },
  {
   "cell_type": "code",
   "execution_count": 58,
   "id": "108d88ee-449c-438b-88a8-43c4622a871a",
   "metadata": {},
   "outputs": [],
   "source": [
    "mesa_subset = mesa_subset.merge(mesa_cluster[\"Cluster group\"], on = \"MagId\", how = \"inner\")"
   ]
  },
  {
   "cell_type": "code",
   "execution_count": 63,
   "id": "f4d5752f-2ada-4c2e-84c6-ade37071f6a7",
   "metadata": {},
   "outputs": [],
   "source": [
    "cluster_0 = mesa_subset[mesa_subset['Cluster group'] == 1]\n",
    "cluster_1 = mesa_subset[mesa_subset['Cluster group'] == 2]\n",
    "cluster_2 = mesa_subset[mesa_subset['Cluster group'] == 3]"
   ]
  },
  {
   "cell_type": "code",
   "execution_count": 64,
   "id": "bbc0815e-926e-4a15-beed-77cf692f5b3e",
   "metadata": {},
   "outputs": [
    {
     "data": {
      "text/plain": [
       "273.4712643678161"
      ]
     },
     "execution_count": 64,
     "metadata": {},
     "output_type": "execute_result"
    }
   ],
   "source": [
    "cluster_0['Homeless_days'].mean()"
   ]
  },
  {
   "cell_type": "code",
   "execution_count": 65,
   "id": "077c68c8-e962-43f1-b31d-95720e7c4067",
   "metadata": {},
   "outputs": [
    {
     "data": {
      "text/plain": [
       "3645.6111111111113"
      ]
     },
     "execution_count": 65,
     "metadata": {},
     "output_type": "execute_result"
    }
   ],
   "source": [
    "cluster_1['Homeless_days'].mean()"
   ]
  },
  {
   "cell_type": "code",
   "execution_count": 66,
   "id": "4fe364b0-e862-4741-aa70-fca2c9f884ef",
   "metadata": {},
   "outputs": [
    {
     "data": {
      "text/plain": [
       "694.3265306122449"
      ]
     },
     "execution_count": 66,
     "metadata": {},
     "output_type": "execute_result"
    }
   ],
   "source": [
    "cluster_2['Homeless_days'].mean()"
   ]
  }
 ],
 "metadata": {
  "kernelspec": {
   "display_name": "Python 3 (ipykernel)",
   "language": "python",
   "name": "python3"
  },
  "language_info": {
   "codemirror_mode": {
    "name": "ipython",
    "version": 3
   },
   "file_extension": ".py",
   "mimetype": "text/x-python",
   "name": "python",
   "nbconvert_exporter": "python",
   "pygments_lexer": "ipython3",
   "version": "3.10.5"
  }
 },
 "nbformat": 4,
 "nbformat_minor": 5
}
